{
 "cells": [
  {
   "cell_type": "markdown",
   "metadata": {},
   "source": [
    "***Import packages, some may not be useful***"
   ]
  },
  {
   "cell_type": "code",
   "execution_count": 1,
   "metadata": {
    "collapsed": true
   },
   "outputs": [],
   "source": [
    "import os\n",
    "import random\n",
    "import nltk\n",
    "from scipy import stats"
   ]
  },
  {
   "cell_type": "code",
   "execution_count": 2,
   "metadata": {
    "collapsed": true
   },
   "outputs": [],
   "source": [
    "import numpy as np\n",
    "import scipy as sp\n",
    "import pandas as pd\n",
    "from pandas import Series, DataFrame\n",
    "import matplotlib.pyplot as plt\n",
    "import re\n",
    "import string\n",
    "%matplotlib inline\n",
    "plt.style.use('ggplot')"
   ]
  },
  {
   "cell_type": "code",
   "execution_count": 3,
   "metadata": {
    "collapsed": true
   },
   "outputs": [],
   "source": [
    "import operator\n",
    "import math\n",
    "from functools import partial"
   ]
  },
  {
   "cell_type": "markdown",
   "metadata": {},
   "source": [
    "***Set up the stopping words***"
   ]
  },
  {
   "cell_type": "code",
   "execution_count": null,
   "metadata": {
    "collapsed": true
   },
   "outputs": [],
   "source": [
    "stop_words = set(stopwords.words(\"english\"))"
   ]
  },
  {
   "cell_type": "markdown",
   "metadata": {},
   "source": [
    "***Load the data, you should change the address where you store the data***"
   ]
  },
  {
   "cell_type": "code",
   "execution_count": null,
   "metadata": {
    "collapsed": true
   },
   "outputs": [],
   "source": [
    "sepsis = pd.read_csv('/Users/zhanghengqian/Desktop/DIHI/sepsis_labs_v2.csv',encoding = \"ISO-8859-1\")"
   ]
  },
  {
   "cell_type": "markdown",
   "metadata": {},
   "source": [
    "***Simple data preprocessing***"
   ]
  },
  {
   "cell_type": "code",
   "execution_count": null,
   "metadata": {
    "collapsed": true
   },
   "outputs": [],
   "source": [
    "##change unit to lower case\n",
    "sepsis['REFERENCE_UNIT']      = sepsis['REFERENCE_UNIT'].str.lower()\n",
    "##convert string into time stamp format\n",
    "sepsis['PCR_RESULT_DATE']     = pd.to_datetime(sepsis['PCR_RESULT_DATE'])\n",
    "sepsis['ORDER_TIME']          = pd.to_datetime(sepsis['ORDER_TIME'])\n",
    "sepsis['RESULT_TIME']         = pd.to_datetime(sepsis['RESULT_TIME'])\n",
    "sepsis['COLLECTED_DATE_TIME'] = pd.to_datetime(sepsis['COLLECTED_DATE_TIME'])\n",
    "sepsis['RECEIVED_DATE_TIME']  = pd.to_datetime(sepsis['RECEIVED_DATE_TIME'])\n",
    "##create time difference: result time -  order time\n",
    "sepsis['TIME_DIFF']           = (sepsis['RESULT_TIME'] - sepsis['ORDER_TIME']).astype('timedelta64[m]')"
   ]
  },
  {
   "cell_type": "markdown",
   "metadata": {},
   "source": [
    "***Dealing With Component Name in Sepsis Data Set I***"
   ]
  },
  {
   "cell_type": "code",
   "execution_count": null,
   "metadata": {
    "collapsed": true
   },
   "outputs": [],
   "source": [
    "##remove all the non beaker team data and missing collected and received time data\n",
    "##after that, component only wiht BKR and BKRREF\n",
    "sepsis_bkr_nm = sepsis.loc[lambda df: (df.COMPONENT_NAME.str.contains('BKR')) & (df.COLLECTED_DATE_TIME.isnull() == False) & (df.RECEIVED_DATE_TIME.isnull() == False)]"
   ]
  },
  {
   "cell_type": "code",
   "execution_count": null,
   "metadata": {
    "collapsed": true
   },
   "outputs": [],
   "source": [
    "##remove BKR AND BKRREF from component names\n",
    "##you will see the warnings: A value is trying to be set on a copy of a slice from a DataFrame. Just ignore the warnings\n",
    "sepsis_bkr_nm['COMPONENT_NAME'] = sepsis_bkr_nm.COMPONENT_NAME.str.replace(r\"(\\s+\\(BKR\\))|(\\s+\\(BKRREF\\))\",\"\")"
   ]
  },
  {
   "cell_type": "markdown",
   "metadata": {},
   "source": [
    "***Standardize the component names***"
   ]
  },
  {
   "cell_type": "code",
   "execution_count": null,
   "metadata": {
    "collapsed": true
   },
   "outputs": [],
   "source": [
    "s_33 = sepsis_bkr_nm.COMPONENT_NAME.value_counts()"
   ]
  },
  {
   "cell_type": "code",
   "execution_count": null,
   "metadata": {
    "collapsed": true
   },
   "outputs": [],
   "source": [
    "#Process function\n",
    "def standardizer(strings):\n",
    "    filtered_sentence = []\n",
    "    for w in nltk.word_tokenize(strings):\n",
    "        if w not in stop_words | set(string.punctuation):\n",
    "             filtered_sentence.append(w.lower())\n",
    "    return filtered_sentence"
   ]
  },
  {
   "cell_type": "code",
   "execution_count": null,
   "metadata": {
    "collapsed": true
   },
   "outputs": [],
   "source": [
    "#Get Standard component name for each unique component name\n",
    "s_33_clean = list(map(standardizer,s_33.index.values))"
   ]
  },
  {
   "cell_type": "code",
   "execution_count": null,
   "metadata": {
    "collapsed": true
   },
   "outputs": [],
   "source": [
    "#Create dictionary: COMPONENT_NAME, STANDARAD COMPONENT NAME\n",
    "s_33_total = dict(zip(s_33.index.values, s_33_clean))"
   ]
  },
  {
   "cell_type": "code",
   "execution_count": null,
   "metadata": {
    "collapsed": true
   },
   "outputs": [],
   "source": [
    "##Create new column standardized component\n",
    "##you will see the warnings: A value is trying to be set on a copy of a slice from a DataFrame. Just ignore the warnings\n",
    "sepsis_bkr_nm['STD_COMPONENT'] = sepsis_bkr_nm['COMPONENT_NAME'].map(s_33_total)"
   ]
  },
  {
   "cell_type": "markdown",
   "metadata": {},
   "source": [
    "***Dealing With Component Name in Sepsis Data Set II***"
   ]
  },
  {
   "cell_type": "code",
   "execution_count": null,
   "metadata": {
    "collapsed": true
   },
   "outputs": [],
   "source": [
    "##new columns time difference: colleted time -  order time\n",
    "##you will see the warnings: A value is trying to be set on a copy of a slice from a DataFrame. Just ignore the warnings\n",
    "sepsis_bkr_nm['TIME_DIFF_otc'] = (sepsis_bkr_nm['COLLECTED_DATE_TIME'] - sepsis_bkr_nm['ORDER_TIME']).astype('timedelta64[s]')"
   ]
  },
  {
   "cell_type": "code",
   "execution_count": null,
   "metadata": {
    "collapsed": true
   },
   "outputs": [],
   "source": [
    "##new columns time difference: recieved time - collected time\n",
    "##you will see the warnings: A value is trying to be set on a copy of a slice from a DataFrame. Just ignore the warnings\n",
    "sepsis_bkr_nm['TIME_DIFF_ctr'] = (sepsis_bkr_nm['RECEIVED_DATE_TIME'] - sepsis_bkr_nm['COLLECTED_DATE_TIME']).astype('timedelta64[s]')"
   ]
  },
  {
   "cell_type": "code",
   "execution_count": null,
   "metadata": {
    "collapsed": true
   },
   "outputs": [],
   "source": [
    "##new columns time difference: result time - recieved time\n",
    "##you will see the warnings: A value is trying to be set on a copy of a slice from a DataFrame. Just ignore the warnings\n",
    "sepsis_bkr_nm['TIME_DIFF_rtr'] = (sepsis_bkr_nm['RESULT_TIME'] - sepsis_bkr_nm['RECEIVED_DATE_TIME']).astype('timedelta64[s]')"
   ]
  },
  {
   "cell_type": "code",
   "execution_count": null,
   "metadata": {
    "collapsed": true
   },
   "outputs": [],
   "source": [
    "##create new columns which extract the hour from ORDER_TIME, COLLECTED_TIME, RECEIVED_TIME\n",
    "##you will see the warnings: A value is trying to be set on a copy of a slice from a DataFrame. Just ignore the warnings\n",
    "sepsis_bkr_nm['order_hour'] = sepsis_bkr_nm.ORDER_TIME.dt.hour\n",
    "sepsis_bkr_nm['coll_hour'] = sepsis_bkr_nm.COLLECTED_DATE_TIME.dt.hour\n",
    "sepsis_bkr_nm['rece_hour'] = sepsis_bkr_nm.RECEIVED_DATE_TIME.dt.hour"
   ]
  },
  {
   "cell_type": "markdown",
   "metadata": {},
   "source": [
    "***Score computing functions***"
   ]
  },
  {
   "cell_type": "code",
   "execution_count": null,
   "metadata": {
    "collapsed": true
   },
   "outputs": [],
   "source": [
    "##these functions compute all things about the result\n",
    "def sepsis_median(name):\n",
    "    a = sepsis_bkr_nm.loc[lambda df: (df.COMPONENT_NAME == name) & (df.ORD_NUM_VALUE != 9999999)].ORD_NUM_VALUE.median()\n",
    "    return a\n",
    "\n",
    "def sepsis_mean(name):\n",
    "    a = sepsis_bkr_nm.loc[lambda df: (df.COMPONENT_NAME == name) & (df.ORD_NUM_VALUE != 9999999)].ORD_NUM_VALUE.mean()\n",
    "    return a\n",
    "\n",
    "def sepsis_max(name):\n",
    "    a = sepsis_bkr_nm.loc[lambda df: (df.COMPONENT_NAME == name) & (df.ORD_NUM_VALUE != 9999999)].ORD_NUM_VALUE.max()\n",
    "    return a\n",
    "\n",
    "def sepsis_min(name):\n",
    "    a = sepsis_bkr_nm.loc[lambda df: (df.COMPONENT_NAME == name) & (df.ORD_NUM_VALUE != 9999999)].ORD_NUM_VALUE.min()\n",
    "    return a\n",
    "\n",
    "##these functions compute all things about the time difference between result time and received time\n",
    "def sepsis_mean_time(name):\n",
    "    a = sepsis_bkr_nm.loc[lambda df: (df.COMPONENT_NAME == name) & (df.TIME_DIFF_rtr < 86400)].TIME_DIFF_rtr.mean()\n",
    "    return a\n",
    "\n",
    "def sepsis_median_time(name):\n",
    "    a = sepsis_bkr_nm.loc[lambda df: (df.COMPONENT_NAME == name) & (df.TIME_DIFF_rtr < 86400)].TIME_DIFF_rtr.median()\n",
    "    return a\n",
    "\n",
    "def sepsis_max_time(name):\n",
    "    a = sepsis_bkr_nm.loc[lambda df: (df.COMPONENT_NAME == name) & (df.TIME_DIFF_rtr < 86400)].TIME_DIFF_rtr.max()\n",
    "    return a\n",
    "\n",
    "def sepsis_min_time(name):\n",
    "    a = sepsis_bkr_nm.loc[lambda df: (df.COMPONENT_NAME == name) & (df.TIME_DIFF_rtr < 86400)].TIME_DIFF_rtr.min()\n",
    "    return a\n",
    "\n",
    "##distribution comparison function\n",
    "##try not to use it at first, use the histogram instead\n",
    "def ks_bun(name1,name2):  \n",
    "    a = stats.ks_2samp(sepsis_bkr_nm.loc[lambda df: (df.COMPONENT_NAME == name1) & (df.ORD_NUM_VALUE != 9999999)].ORD_NUM_VALUE, sepsis_bkr_nm.loc[lambda df: (df.COMPONENT_NAME == name2) & (df.ORD_NUM_VALUE != 9999999)].ORD_NUM_VALUE)\n",
    "    return a"
   ]
  },
  {
   "cell_type": "markdown",
   "metadata": {},
   "source": [
    "***Dealing with two panels' components: CBC and CMP***"
   ]
  },
  {
   "cell_type": "code",
   "execution_count": null,
   "metadata": {
    "collapsed": true
   },
   "outputs": [],
   "source": [
    "sepsis_cmp = sepsis_bkr_nm.loc[lambda df: df.ORDER_DESC == 'COMPREHENSIVE METABOLIC PANEL (CMP)'].COMPONENT_NAME.value_counts()"
   ]
  },
  {
   "cell_type": "code",
   "execution_count": null,
   "metadata": {
    "collapsed": true
   },
   "outputs": [],
   "source": [
    "sepsis_cbc = sepsis_bkr_nm.loc[lambda df: df.ORDER_DESC == 'COMPLETE BLOOD COUNT (CBC)'].COMPONENT_NAME.value_counts()"
   ]
  },
  {
   "cell_type": "code",
   "execution_count": null,
   "metadata": {
    "collapsed": true
   },
   "outputs": [],
   "source": [
    "##Combined two panels' component names\n",
    "sepsis_ini = np.append(sepsis_cmp.index.values,sepsis_cbc.index.values)"
   ]
  },
  {
   "cell_type": "code",
   "execution_count": null,
   "metadata": {
    "collapsed": true
   },
   "outputs": [],
   "source": [
    "##unify the units: x10^9/l,x109/l\n",
    "regex_pat = re.compile(r' |\\^|\\x88')\n",
    "sepsis_bkr_nm.REFERENCE_UNIT = sepsis_bkr_nm.REFERENCE_UNIT.str.replace(regex_pat, '')"
   ]
  },
  {
   "cell_type": "code",
   "execution_count": null,
   "metadata": {
    "collapsed": true
   },
   "outputs": [],
   "source": [
    "ref_unit = sepsis_bkr_nm.loc[lambda df: df.COMPONENT_NAME.isin(sepsis_ini)][['COMPONENT_NAME','REFERENCE_UNIT']].drop_duplicates(['COMPONENT_NAME','REFERENCE_UNIT']).dropna()\n",
    "ref_unit.index = range(ref_unit.shape[0])\n",
    "##Components: ALBUMIN,TOTAL PROTEIN,HEMATOCRIT have more one units.\n",
    "##There is only one dorminant units, all other units are removed\n",
    "##I hard code the removing step below. It works fine if you follow all my step\n",
    "##Try to check ref_unit after you run this cell to see if there still exist duplicates for some component\n",
    "ref_unit.drop(ref_unit.index[[29,31,32]], inplace = True)\n",
    "ref_unit.index = range(ref_unit.shape[0])"
   ]
  },
  {
   "cell_type": "markdown",
   "metadata": {},
   "source": [
    "***Remove all missing values and abnormal non-missing values defined in second presentation***"
   ]
  },
  {
   "cell_type": "code",
   "execution_count": null,
   "metadata": {
    "collapsed": true
   },
   "outputs": [],
   "source": [
    "sepsis_bkr_nm = sepsis_bkr_nm.loc[lambda df: ~df.ORD_VALUE.isnull()]"
   ]
  },
  {
   "cell_type": "code",
   "execution_count": null,
   "metadata": {
    "collapsed": true
   },
   "outputs": [],
   "source": [
    "sepsis_bkr_nm = sepsis_bkr_nm.loc[lambda df: df.ORD_NUM_VALUE != 9999999.0]"
   ]
  },
  {
   "cell_type": "code",
   "execution_count": null,
   "metadata": {
    "collapsed": true
   },
   "outputs": [],
   "source": [
    "sepsis_bkr_nm = sepsis_bkr_nm.loc[lambda df: ~df.REFERENCE_UNIT.isnull()]"
   ]
  },
  {
   "cell_type": "markdown",
   "metadata": {},
   "source": [
    "***Build two panels' component table***"
   ]
  },
  {
   "cell_type": "code",
   "execution_count": null,
   "metadata": {
    "collapsed": true
   },
   "outputs": [],
   "source": [
    "##This table contain three features Component name, Reference Unit and Standard component name\n",
    "ref_dict = sepsis_bkr_nm.loc[lambda df: df.COMPONENT_NAME.isin(ref_unit.COMPONENT_NAME.values)][['COMPONENT_NAME','REFERENCE_UNIT','STD_COMPONENT']].drop_duplicates(['COMPONENT_NAME','REFERENCE_UNIT']).dropna()\n",
    "ref_dict.index = range(ref_dict.shape[0])\n",
    "ref_dict.drop(ref_dict.index[[29,31,32]],inplace = True)\n",
    "ref_dict.index = range(ref_dict.shape[0])"
   ]
  },
  {
   "cell_type": "code",
   "execution_count": null,
   "metadata": {
    "collapsed": true
   },
   "outputs": [],
   "source": [
    "##Take a first look at this table\n",
    "ref_dict.head()"
   ]
  },
  {
   "cell_type": "markdown",
   "metadata": {},
   "source": [
    "***Deal with the left top 50 componets***"
   ]
  },
  {
   "cell_type": "code",
   "execution_count": null,
   "metadata": {
    "collapsed": true
   },
   "outputs": [],
   "source": [
    "top_100 = sepsis_bkr_nm.COMPONENT_NAME.value_counts().iloc[0:100]"
   ]
  },
  {
   "cell_type": "code",
   "execution_count": null,
   "metadata": {
    "collapsed": true
   },
   "outputs": [],
   "source": [
    "top100_left20 = list(top100_left.iloc[0:20].index.values)"
   ]
  },
  {
   "cell_type": "code",
   "execution_count": null,
   "metadata": {
    "collapsed": true
   },
   "outputs": [],
   "source": [
    "ref_dict20 = sepsis_bkr_nm.loc[lambda df: df.COMPONENT_NAME.isin(top100_left.iloc[0:20].index.values)][['COMPONENT_NAME','REFERENCE_UNIT','STD_COMPONENT']].drop_duplicates(['COMPONENT_NAME','REFERENCE_UNIT']).dropna()"
   ]
  },
  {
   "cell_type": "markdown",
   "metadata": {},
   "source": [
    "***First Match standardized component name and unit***"
   ]
  },
  {
   "cell_type": "code",
   "execution_count": null,
   "metadata": {
    "collapsed": true
   },
   "outputs": [],
   "source": [
    "##This step will append all non matached term into ref_dict table\n",
    "n = len(top100_left20)\n",
    "top100_left20_copy = list(top100_left20)\n",
    "for i in range(n):\n",
    "    aa = lambda a: any(x in s_33_total[top100_left20[i]] for x in a)\n",
    "    hehe = ref_dict20.loc[lambda df: df.COMPONENT_NAME == top100_left20[i]].REFERENCE_UNIT.values[0]\n",
    "    tr = ref_dict.loc[list(map(aa, ref_dict.STD_COMPONENT.values))].loc[lambda df: df.REFERENCE_UNIT == hehe].shape[0]\n",
    "    \n",
    "    if(tr == 0):\n",
    "        ref_dict = ref_dict.append(ref_dict20.loc[lambda df: df.COMPONENT_NAME == top100_left20[i]],ignore_index=True)\n",
    "        top100_left20_copy.remove(top100_left20[i])"
   ]
  },
  {
   "cell_type": "markdown",
   "metadata": {},
   "source": [
    "***Show all the left component names***"
   ]
  },
  {
   "cell_type": "code",
   "execution_count": null,
   "metadata": {
    "collapsed": true
   },
   "outputs": [],
   "source": [
    "top100_left20_copy"
   ]
  },
  {
   "cell_type": "markdown",
   "metadata": {},
   "source": [
    "***Score based approach example: POC GLUCOSE WB***"
   ]
  },
  {
   "cell_type": "code",
   "execution_count": null,
   "metadata": {
    "collapsed": true
   },
   "outputs": [],
   "source": [
    "##Show candidate component names\n",
    "aa = lambda a: any(x in s_33_total['POC GLUCOSE WB'] for x in a)\n",
    "hehe = ref_dict20.loc[lambda df: df.COMPONENT_NAME == 'POC GLUCOSE WB'].REFERENCE_UNIT.values[0]\n",
    "ref_dict.loc[list(map(aa, ref_dict.STD_COMPONENT.values))].loc[lambda df: df.REFERENCE_UNIT == hehe]"
   ]
  },
  {
   "cell_type": "code",
   "execution_count": null,
   "metadata": {
    "collapsed": true
   },
   "outputs": [],
   "source": [
    "##Compute and show median result both target and candidate component name\n",
    "sm1 = sepsis_median('GLUCOSE'), sm2 = sepsis_median('POC GLUCOSE WB')\n",
    "sm1,sm2"
   ]
  },
  {
   "cell_type": "code",
   "execution_count": null,
   "metadata": {
    "collapsed": true
   },
   "outputs": [],
   "source": [
    "##Compute and show median time difference both target and candidate component name(minute level)\n",
    "smt1 = sepsis_median_time('GLUCOSE')/60,smt2 = sepsis_median_time('POC GLUCOSE WB')/60\n",
    "smt1,smt2"
   ]
  },
  {
   "cell_type": "code",
   "execution_count": null,
   "metadata": {
    "collapsed": true
   },
   "outputs": [],
   "source": [
    "##Compute result score\n",
    "r = abs(sm1-sm2)/np.minimum(sm1,sm2)\n",
    "r"
   ]
  },
  {
   "cell_type": "code",
   "execution_count": null,
   "metadata": {
    "collapsed": true
   },
   "outputs": [],
   "source": [
    "##Compute time difference score\n",
    "t = abs(smt1-smt2)/np.minimum(smt1,smt2)\n",
    "t"
   ]
  },
  {
   "cell_type": "code",
   "execution_count": null,
   "metadata": {
    "collapsed": true
   },
   "outputs": [],
   "source": [
    "##I give result weight 2 and give time difference weight 1\n",
    "(r*2+t)/3"
   ]
  },
  {
   "cell_type": "code",
   "execution_count": null,
   "metadata": {
    "collapsed": true
   },
   "outputs": [],
   "source": [
    "##Based on the score above and your judgement to decide if you need to run this code\n",
    "ref_dict = ref_dict.append(ref_dict20.loc[lambda df: df.COMPONENT_NAME == 'POC GLUCOSE WB'],ignore_index=True)"
   ]
  },
  {
   "cell_type": "markdown",
   "metadata": {},
   "source": [
    "***All the other component can follow the same procedure***"
   ]
  }
 ],
 "metadata": {
  "kernelspec": {
   "display_name": "Python 3",
   "language": "python",
   "name": "python3"
  },
  "language_info": {
   "codemirror_mode": {
    "name": "ipython",
    "version": 3
   },
   "file_extension": ".py",
   "mimetype": "text/x-python",
   "name": "python",
   "nbconvert_exporter": "python",
   "pygments_lexer": "ipython3",
   "version": "3.6.1"
  }
 },
 "nbformat": 4,
 "nbformat_minor": 2
}
